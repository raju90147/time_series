{
 "cells": [
  {
   "cell_type": "code",
   "execution_count": 1,
   "id": "0199a2f5",
   "metadata": {},
   "outputs": [
    {
     "name": "stdout",
     "output_type": "stream",
     "text": [
      "Collecting pandas-datareader\n",
      "  Downloading pandas_datareader-0.10.0-py3-none-any.whl (109 kB)\n",
      "Requirement already satisfied: requests>=2.19.0 in c:\\users\\lenovo\\anaconda3\\lib\\site-packages (from pandas-datareader) (2.26.0)\n",
      "Requirement already satisfied: pandas>=0.23 in c:\\users\\lenovo\\anaconda3\\lib\\site-packages (from pandas-datareader) (1.4.1)\n",
      "Requirement already satisfied: lxml in c:\\users\\lenovo\\anaconda3\\lib\\site-packages (from pandas-datareader) (4.6.3)\n",
      "Requirement already satisfied: pytz>=2020.1 in c:\\users\\lenovo\\anaconda3\\lib\\site-packages (from pandas>=0.23->pandas-datareader) (2021.3)\n",
      "Requirement already satisfied: python-dateutil>=2.8.1 in c:\\users\\lenovo\\anaconda3\\lib\\site-packages (from pandas>=0.23->pandas-datareader) (2.8.2)\n",
      "Requirement already satisfied: numpy>=1.18.5 in c:\\users\\lenovo\\anaconda3\\lib\\site-packages (from pandas>=0.23->pandas-datareader) (1.21.6)\n",
      "Requirement already satisfied: six>=1.5 in c:\\users\\lenovo\\anaconda3\\lib\\site-packages (from python-dateutil>=2.8.1->pandas>=0.23->pandas-datareader) (1.16.0)\n",
      "Requirement already satisfied: certifi>=2017.4.17 in c:\\users\\lenovo\\anaconda3\\lib\\site-packages (from requests>=2.19.0->pandas-datareader) (2021.10.8)\n",
      "Requirement already satisfied: urllib3<1.27,>=1.21.1 in c:\\users\\lenovo\\anaconda3\\lib\\site-packages (from requests>=2.19.0->pandas-datareader) (1.26.7)\n",
      "Requirement already satisfied: idna<4,>=2.5 in c:\\users\\lenovo\\anaconda3\\lib\\site-packages (from requests>=2.19.0->pandas-datareader) (3.2)\n",
      "Requirement already satisfied: charset-normalizer~=2.0.0 in c:\\users\\lenovo\\anaconda3\\lib\\site-packages (from requests>=2.19.0->pandas-datareader) (2.0.4)\n",
      "Installing collected packages: pandas-datareader\n",
      "Successfully installed pandas-datareader-0.10.0\n"
     ]
    }
   ],
   "source": [
    "! pip install pandas-datareader\n",
    "# getting stock data using sql \n",
    "# https://www.mssqltips.com/sqlservertip/5405/an-overview-of-data-science-for-stock-price-analysis-with-sql-part-1/"
   ]
  },
  {
   "cell_type": "code",
   "execution_count": 2,
   "id": "540d3e04",
   "metadata": {},
   "outputs": [],
   "source": [
    "import pandas_datareader as pdr\n",
    "import pandas as pd\n",
    "from datetime import datetime"
   ]
  },
  {
   "cell_type": "code",
   "execution_count": 3,
   "id": "b017d65a",
   "metadata": {},
   "outputs": [],
   "source": [
    "df_microsoft = pdr.get_data_yahoo('MSFT')"
   ]
  },
  {
   "cell_type": "code",
   "execution_count": 5,
   "id": "59db236d",
   "metadata": {},
   "outputs": [
    {
     "data": {
      "text/html": [
       "<div>\n",
       "<style scoped>\n",
       "    .dataframe tbody tr th:only-of-type {\n",
       "        vertical-align: middle;\n",
       "    }\n",
       "\n",
       "    .dataframe tbody tr th {\n",
       "        vertical-align: top;\n",
       "    }\n",
       "\n",
       "    .dataframe thead th {\n",
       "        text-align: right;\n",
       "    }\n",
       "</style>\n",
       "<table border=\"1\" class=\"dataframe\">\n",
       "  <thead>\n",
       "    <tr style=\"text-align: right;\">\n",
       "      <th></th>\n",
       "      <th>High</th>\n",
       "      <th>Low</th>\n",
       "      <th>Open</th>\n",
       "      <th>Close</th>\n",
       "      <th>Volume</th>\n",
       "      <th>Adj Close</th>\n",
       "    </tr>\n",
       "    <tr>\n",
       "      <th>Date</th>\n",
       "      <th></th>\n",
       "      <th></th>\n",
       "      <th></th>\n",
       "      <th></th>\n",
       "      <th></th>\n",
       "      <th></th>\n",
       "    </tr>\n",
       "  </thead>\n",
       "  <tbody>\n",
       "    <tr>\n",
       "      <th>2017-06-20</th>\n",
       "      <td>70.870003</td>\n",
       "      <td>69.870003</td>\n",
       "      <td>70.820000</td>\n",
       "      <td>69.910004</td>\n",
       "      <td>21512200.0</td>\n",
       "      <td>65.481468</td>\n",
       "    </tr>\n",
       "    <tr>\n",
       "      <th>2017-06-21</th>\n",
       "      <td>70.620003</td>\n",
       "      <td>69.940002</td>\n",
       "      <td>70.209999</td>\n",
       "      <td>70.269997</td>\n",
       "      <td>19891100.0</td>\n",
       "      <td>65.818687</td>\n",
       "    </tr>\n",
       "    <tr>\n",
       "      <th>2017-06-22</th>\n",
       "      <td>70.589996</td>\n",
       "      <td>69.709999</td>\n",
       "      <td>70.540001</td>\n",
       "      <td>70.260002</td>\n",
       "      <td>22965700.0</td>\n",
       "      <td>65.809311</td>\n",
       "    </tr>\n",
       "    <tr>\n",
       "      <th>2017-06-23</th>\n",
       "      <td>71.250000</td>\n",
       "      <td>69.919998</td>\n",
       "      <td>70.089996</td>\n",
       "      <td>71.209999</td>\n",
       "      <td>27617300.0</td>\n",
       "      <td>66.699120</td>\n",
       "    </tr>\n",
       "    <tr>\n",
       "      <th>2017-06-26</th>\n",
       "      <td>71.709999</td>\n",
       "      <td>70.440002</td>\n",
       "      <td>71.400002</td>\n",
       "      <td>70.529999</td>\n",
       "      <td>19607000.0</td>\n",
       "      <td>66.062195</td>\n",
       "    </tr>\n",
       "  </tbody>\n",
       "</table>\n",
       "</div>"
      ],
      "text/plain": [
       "                 High        Low       Open      Close      Volume  Adj Close\n",
       "Date                                                                         \n",
       "2017-06-20  70.870003  69.870003  70.820000  69.910004  21512200.0  65.481468\n",
       "2017-06-21  70.620003  69.940002  70.209999  70.269997  19891100.0  65.818687\n",
       "2017-06-22  70.589996  69.709999  70.540001  70.260002  22965700.0  65.809311\n",
       "2017-06-23  71.250000  69.919998  70.089996  71.209999  27617300.0  66.699120\n",
       "2017-06-26  71.709999  70.440002  71.400002  70.529999  19607000.0  66.062195"
      ]
     },
     "execution_count": 5,
     "metadata": {},
     "output_type": "execute_result"
    }
   ],
   "source": [
    "df_microsoft.head()"
   ]
  },
  {
   "cell_type": "code",
   "execution_count": 6,
   "id": "5d00cd88",
   "metadata": {},
   "outputs": [
    {
     "data": {
      "text/plain": [
       "<AxesSubplot:xlabel='Date'>"
      ]
     },
     "execution_count": 6,
     "metadata": {},
     "output_type": "execute_result"
    },
    {
     "data": {
      "image/png": "[encoded data removed]",
      "text/plain": [
       "<Figure size 864x288 with 1 Axes>"
      ]
     },
     "metadata": {
      "needs_background": "light"
     },
     "output_type": "display_data"
    }
   ],
   "source": [
    "df_microsoft['High'].plot(figsize=(12,4))"
   ]
  },
  {
   "cell_type": "code",
   "execution_count": 12,
   "id": "e2249778",
   "metadata": {},
   "outputs": [
    {
     "data": {
      "text/plain": [
       "<AxesSubplot:xlabel='Date'>"
      ]
     },
     "execution_count": 12,
     "metadata": {},
     "output_type": "execute_result"
    },
    {
     "data": {
      "image/png": "[encoded data removed]",
      "text/plain": [
       "<Figure size 864x288 with 1 Axes>"
      ]
     },
     "metadata": {
      "needs_background": "light"
     },
     "output_type": "display_data"
    }
   ],
   "source": [
    "## xlimit\n",
    "df_microsoft['High'].plot(xlim=['2020-01-01','2021-06-01'], figsize=(12,4))"
   ]
  },
  {
   "cell_type": "code",
   "execution_count": 10,
   "id": "044b24d0",
   "metadata": {},
   "outputs": [
    {
     "data": {
      "text/plain": [
       "<AxesSubplot:xlabel='Date'>"
      ]
     },
     "execution_count": 10,
     "metadata": {},
     "output_type": "execute_result"
    },
    {
     "data": {
      "image/png": "[encoded data removed]",
      "text/plain": [
       "<Figure size 864x288 with 1 Axes>"
      ]
     },
     "metadata": {
      "needs_background": "light"
     },
     "output_type": "display_data"
    }
   ],
   "source": [
    "## xlimit and y limit\n",
    "\n",
    "df_microsoft['High'].plot(xlim=['2020-01-01','2021-06-01'],ylim=[0,350],figsize=(12,4))\n"
   ]
  },
  {
   "cell_type": "code",
   "execution_count": 13,
   "id": "feace231",
   "metadata": {},
   "outputs": [
    {
     "data": {
      "text/plain": [
       "<AxesSubplot:xlabel='Date'>"
      ]
     },
     "execution_count": 13,
     "metadata": {},
     "output_type": "execute_result"
    },
    {
     "data": {
      "image/png": "[encoded data removed]",
      "text/plain": [
       "<Figure size 864x288 with 1 Axes>"
      ]
     },
     "metadata": {
      "needs_background": "light"
     },
     "output_type": "display_data"
    }
   ],
   "source": [
    "# coloring\n",
    "df_microsoft['High'].plot(xlim=['2020-01-01','2021-06-01'],figsize=(12,4),ls='--',c='green')\n"
   ]
  },
  {
   "cell_type": "code",
   "execution_count": 14,
   "id": "14adede9",
   "metadata": {},
   "outputs": [
    {
     "data": {
      "text/plain": [
       "DatetimeIndex(['2017-06-20', '2017-06-21', '2017-06-22', '2017-06-23',\n",
       "               '2017-06-26', '2017-06-27', '2017-06-28', '2017-06-29',\n",
       "               '2017-06-30', '2017-07-03',\n",
       "               ...\n",
       "               '2022-06-06', '2022-06-07', '2022-06-08', '2022-06-09',\n",
       "               '2022-06-10', '2022-06-13', '2022-06-14', '2022-06-15',\n",
       "               '2022-06-16', '2022-06-17'],\n",
       "              dtype='datetime64[ns]', name='Date', length=1259, freq=None)"
      ]
     },
     "execution_count": 14,
     "metadata": {},
     "output_type": "execute_result"
    }
   ],
   "source": [
    " df_microsoft.index\n"
   ]
  },
  {
   "cell_type": "code",
   "execution_count": 17,
   "id": "d48278a4",
   "metadata": {},
   "outputs": [],
   "source": [
    "index = df_microsoft.loc['2020-01-01':'2021-06-01'].index\n",
    "share_open = df_microsoft.loc['2020-01-01':'2021-06-01']['Open']"
   ]
  },
  {
   "cell_type": "code",
   "execution_count": 18,
   "id": "5ad7b081",
   "metadata": {},
   "outputs": [
    {
     "data": {
      "text/plain": [
       "Date\n",
       "2020-01-02    158.779999\n",
       "2020-01-03    158.320007\n",
       "2020-01-06    157.080002\n",
       "2020-01-07    159.320007\n",
       "2020-01-08    158.929993\n",
       "                 ...    \n",
       "2021-05-25    251.770004\n",
       "2021-05-26    251.429993\n",
       "2021-05-27    251.169998\n",
       "2021-05-28    251.000000\n",
       "2021-06-01    251.229996\n",
       "Name: Open, Length: 356, dtype: float64"
      ]
     },
     "execution_count": 18,
     "metadata": {},
     "output_type": "execute_result"
    }
   ],
   "source": [
    "share_open"
   ]
  },
  {
   "cell_type": "code",
   "execution_count": 19,
   "id": "69dc2994",
   "metadata": {},
   "outputs": [
    {
     "data": {
      "text/plain": [
       "DatetimeIndex(['2020-01-02', '2020-01-03', '2020-01-06', '2020-01-07',\n",
       "               '2020-01-08', '2020-01-09', '2020-01-10', '2020-01-13',\n",
       "               '2020-01-14', '2020-01-15',\n",
       "               ...\n",
       "               '2021-05-18', '2021-05-19', '2021-05-20', '2021-05-21',\n",
       "               '2021-05-24', '2021-05-25', '2021-05-26', '2021-05-27',\n",
       "               '2021-05-28', '2021-06-01'],\n",
       "              dtype='datetime64[ns]', name='Date', length=356, freq=None)"
      ]
     },
     "execution_count": 19,
     "metadata": {},
     "output_type": "execute_result"
    }
   ],
   "source": [
    "index"
   ]
  },
  {
   "cell_type": "code",
   "execution_count": 20,
   "id": "5abaa07d",
   "metadata": {},
   "outputs": [],
   "source": [
    "import matplotlib.pyplot as plt\n",
    "%matplotlib inline\n"
   ]
  },
  {
   "cell_type": "code",
   "execution_count": 21,
   "id": "7b44f72f",
   "metadata": {},
   "outputs": [
    {
     "data": {
      "text/plain": [
       "[<matplotlib.lines.Line2D at 0x1f346b4b640>]"
      ]
     },
     "execution_count": 21,
     "metadata": {},
     "output_type": "execute_result"
    },
    {
     "data": {
      "image/png": "[encoded data removed]",
      "text/plain": [
       "<Figure size 432x288 with 1 Axes>"
      ]
     },
     "metadata": {
      "needs_background": "light"
     },
     "output_type": "display_data"
    }
   ],
   "source": [
    "figure,axis=plt.subplots()\n",
    "plt.tight_layout()\n",
    "## Preventing overlapping\n",
    "figure.autofmt_xdate()\n",
    "axis.plot(index,share_open)"
   ]
  },
  {
   "cell_type": "code",
   "execution_count": 22,
   "id": "d66e4745",
   "metadata": {},
   "outputs": [],
   "source": [
    "## Datetime Index\n",
    "df_microsoft = df_microsoft.reset_index()\n"
   ]
  },
  {
   "cell_type": "code",
   "execution_count": 24,
   "id": "89834e1a",
   "metadata": {},
   "outputs": [
    {
     "name": "stdout",
     "output_type": "stream",
     "text": [
      "<class 'pandas.core.frame.DataFrame'>\n",
      "RangeIndex: 1259 entries, 0 to 1258\n",
      "Data columns (total 7 columns):\n",
      " #   Column     Non-Null Count  Dtype         \n",
      "---  ------     --------------  -----         \n",
      " 0   Date       1259 non-null   datetime64[ns]\n",
      " 1   High       1259 non-null   float64       \n",
      " 2   Low        1259 non-null   float64       \n",
      " 3   Open       1259 non-null   float64       \n",
      " 4   Close      1259 non-null   float64       \n",
      " 5   Volume     1259 non-null   float64       \n",
      " 6   Adj Close  1259 non-null   float64       \n",
      "dtypes: datetime64[ns](1), float64(6)\n",
      "memory usage: 69.0 KB\n"
     ]
    }
   ],
   "source": [
    "df_microsoft.info()"
   ]
  },
  {
   "cell_type": "code",
   "execution_count": 28,
   "id": "35bc7854",
   "metadata": {},
   "outputs": [
    {
     "ename": "KeyError",
     "evalue": "\"None of ['Date'] are in the columns\"",
     "output_type": "error",
     "traceback": [
      "\u001b[1;31m---------------------------------------------------------------------------\u001b[0m",
      "\u001b[1;31mKeyError\u001b[0m                                  Traceback (most recent call last)",
      "\u001b[1;32m~\\AppData\\Local\\Temp/ipykernel_24404/3146771277.py\u001b[0m in \u001b[0;36m<module>\u001b[1;34m\u001b[0m\n\u001b[1;32m----> 1\u001b[1;33m \u001b[0mdf_microsoft\u001b[0m\u001b[1;33m=\u001b[0m\u001b[0mdf_microsoft\u001b[0m\u001b[1;33m.\u001b[0m\u001b[0mset_index\u001b[0m\u001b[1;33m(\u001b[0m\u001b[1;34m'Date'\u001b[0m\u001b[1;33m,\u001b[0m\u001b[0mdrop\u001b[0m\u001b[1;33m=\u001b[0m\u001b[1;32mTrue\u001b[0m\u001b[1;33m)\u001b[0m\u001b[1;33m\u001b[0m\u001b[1;33m\u001b[0m\u001b[0m\n\u001b[0m",
      "\u001b[1;32m~\\anaconda3\\lib\\site-packages\\pandas\\util\\_decorators.py\u001b[0m in \u001b[0;36mwrapper\u001b[1;34m(*args, **kwargs)\u001b[0m\n\u001b[0;32m    309\u001b[0m                     \u001b[0mstacklevel\u001b[0m\u001b[1;33m=\u001b[0m\u001b[0mstacklevel\u001b[0m\u001b[1;33m,\u001b[0m\u001b[1;33m\u001b[0m\u001b[1;33m\u001b[0m\u001b[0m\n\u001b[0;32m    310\u001b[0m                 )\n\u001b[1;32m--> 311\u001b[1;33m             \u001b[1;32mreturn\u001b[0m \u001b[0mfunc\u001b[0m\u001b[1;33m(\u001b[0m\u001b[1;33m*\u001b[0m\u001b[0margs\u001b[0m\u001b[1;33m,\u001b[0m \u001b[1;33m**\u001b[0m\u001b[0mkwargs\u001b[0m\u001b[1;33m)\u001b[0m\u001b[1;33m\u001b[0m\u001b[1;33m\u001b[0m\u001b[0m\n\u001b[0m\u001b[0;32m    312\u001b[0m \u001b[1;33m\u001b[0m\u001b[0m\n\u001b[0;32m    313\u001b[0m         \u001b[1;32mreturn\u001b[0m \u001b[0mwrapper\u001b[0m\u001b[1;33m\u001b[0m\u001b[1;33m\u001b[0m\u001b[0m\n",
      "\u001b[1;32m~\\anaconda3\\lib\\site-packages\\pandas\\core\\frame.py\u001b[0m in \u001b[0;36mset_index\u001b[1;34m(self, keys, drop, append, inplace, verify_integrity)\u001b[0m\n\u001b[0;32m   5486\u001b[0m \u001b[1;33m\u001b[0m\u001b[0m\n\u001b[0;32m   5487\u001b[0m         \u001b[1;32mif\u001b[0m \u001b[0mmissing\u001b[0m\u001b[1;33m:\u001b[0m\u001b[1;33m\u001b[0m\u001b[1;33m\u001b[0m\u001b[0m\n\u001b[1;32m-> 5488\u001b[1;33m             \u001b[1;32mraise\u001b[0m \u001b[0mKeyError\u001b[0m\u001b[1;33m(\u001b[0m\u001b[1;34mf\"None of {missing} are in the columns\"\u001b[0m\u001b[1;33m)\u001b[0m\u001b[1;33m\u001b[0m\u001b[1;33m\u001b[0m\u001b[0m\n\u001b[0m\u001b[0;32m   5489\u001b[0m \u001b[1;33m\u001b[0m\u001b[0m\n\u001b[0;32m   5490\u001b[0m         \u001b[1;32mif\u001b[0m \u001b[0minplace\u001b[0m\u001b[1;33m:\u001b[0m\u001b[1;33m\u001b[0m\u001b[1;33m\u001b[0m\u001b[0m\n",
      "\u001b[1;31mKeyError\u001b[0m: \"None of ['Date'] are in the columns\""
     ]
    }
   ],
   "source": [
    "df_microsoft=df_microsoft.set_index('Date',drop=True)\n"
   ]
  },
  {
   "cell_type": "code",
   "execution_count": 26,
   "id": "012e66cb",
   "metadata": {
    "scrolled": true
   },
   "outputs": [
    {
     "data": {
      "text/html": [
       "<div>\n",
       "<style scoped>\n",
       "    .dataframe tbody tr th:only-of-type {\n",
       "        vertical-align: middle;\n",
       "    }\n",
       "\n",
       "    .dataframe tbody tr th {\n",
       "        vertical-align: top;\n",
       "    }\n",
       "\n",
       "    .dataframe thead th {\n",
       "        text-align: right;\n",
       "    }\n",
       "</style>\n",
       "<table border=\"1\" class=\"dataframe\">\n",
       "  <thead>\n",
       "    <tr style=\"text-align: right;\">\n",
       "      <th></th>\n",
       "      <th>High</th>\n",
       "      <th>Low</th>\n",
       "      <th>Open</th>\n",
       "      <th>Close</th>\n",
       "      <th>Volume</th>\n",
       "      <th>Adj Close</th>\n",
       "    </tr>\n",
       "    <tr>\n",
       "      <th>Date</th>\n",
       "      <th></th>\n",
       "      <th></th>\n",
       "      <th></th>\n",
       "      <th></th>\n",
       "      <th></th>\n",
       "      <th></th>\n",
       "    </tr>\n",
       "  </thead>\n",
       "  <tbody>\n",
       "    <tr>\n",
       "      <th>2017-06-20</th>\n",
       "      <td>70.870003</td>\n",
       "      <td>69.870003</td>\n",
       "      <td>70.820000</td>\n",
       "      <td>69.910004</td>\n",
       "      <td>21512200.0</td>\n",
       "      <td>65.481468</td>\n",
       "    </tr>\n",
       "    <tr>\n",
       "      <th>2017-06-21</th>\n",
       "      <td>70.620003</td>\n",
       "      <td>69.940002</td>\n",
       "      <td>70.209999</td>\n",
       "      <td>70.269997</td>\n",
       "      <td>19891100.0</td>\n",
       "      <td>65.818687</td>\n",
       "    </tr>\n",
       "    <tr>\n",
       "      <th>2017-06-22</th>\n",
       "      <td>70.589996</td>\n",
       "      <td>69.709999</td>\n",
       "      <td>70.540001</td>\n",
       "      <td>70.260002</td>\n",
       "      <td>22965700.0</td>\n",
       "      <td>65.809311</td>\n",
       "    </tr>\n",
       "    <tr>\n",
       "      <th>2017-06-23</th>\n",
       "      <td>71.250000</td>\n",
       "      <td>69.919998</td>\n",
       "      <td>70.089996</td>\n",
       "      <td>71.209999</td>\n",
       "      <td>27617300.0</td>\n",
       "      <td>66.699120</td>\n",
       "    </tr>\n",
       "    <tr>\n",
       "      <th>2017-06-26</th>\n",
       "      <td>71.709999</td>\n",
       "      <td>70.440002</td>\n",
       "      <td>71.400002</td>\n",
       "      <td>70.529999</td>\n",
       "      <td>19607000.0</td>\n",
       "      <td>66.062195</td>\n",
       "    </tr>\n",
       "  </tbody>\n",
       "</table>\n",
       "</div>"
      ],
      "text/plain": [
       "                 High        Low       Open      Close      Volume  Adj Close\n",
       "Date                                                                         \n",
       "2017-06-20  70.870003  69.870003  70.820000  69.910004  21512200.0  65.481468\n",
       "2017-06-21  70.620003  69.940002  70.209999  70.269997  19891100.0  65.818687\n",
       "2017-06-22  70.589996  69.709999  70.540001  70.260002  22965700.0  65.809311\n",
       "2017-06-23  71.250000  69.919998  70.089996  71.209999  27617300.0  66.699120\n",
       "2017-06-26  71.709999  70.440002  71.400002  70.529999  19607000.0  66.062195"
      ]
     },
     "execution_count": 26,
     "metadata": {},
     "output_type": "execute_result"
    }
   ],
   "source": [
    "df_microsoft.head()"
   ]
  },
  {
   "cell_type": "code",
   "execution_count": 29,
   "id": "6eba15e1",
   "metadata": {},
   "outputs": [],
   "source": [
    "## datetime\n",
    "\n",
    "from datetime import datetime\n"
   ]
  },
  {
   "cell_type": "code",
   "execution_count": 30,
   "id": "28535055",
   "metadata": {},
   "outputs": [
    {
     "data": {
      "text/plain": [
       "datetime.datetime(2021, 11, 21, 0, 0)"
      ]
     },
     "execution_count": 30,
     "metadata": {},
     "output_type": "execute_result"
    }
   ],
   "source": [
    "datetime(2021,11,21)\n"
   ]
  },
  {
   "cell_type": "code",
   "execution_count": 31,
   "id": "9bef9e03",
   "metadata": {},
   "outputs": [
    {
     "data": {
      "text/plain": [
       "datetime.datetime(2022, 6, 20, 12, 0, 27, 957390)"
      ]
     },
     "execution_count": 31,
     "metadata": {},
     "output_type": "execute_result"
    }
   ],
   "source": [
    "datetime.now()\n"
   ]
  },
  {
   "cell_type": "code",
   "execution_count": 33,
   "id": "24d3466b",
   "metadata": {},
   "outputs": [
    {
     "data": {
      "text/plain": [
       "datetime.datetime(2021, 11, 21, 0, 0)"
      ]
     },
     "execution_count": 33,
     "metadata": {},
     "output_type": "execute_result"
    }
   ],
   "source": [
    "date = datetime(2021,11,21)\n",
    "date"
   ]
  },
  {
   "cell_type": "code",
   "execution_count": 34,
   "id": "6f04b6e8",
   "metadata": {},
   "outputs": [
    {
     "data": {
      "text/plain": [
       "datetime.date(2021, 11, 21)"
      ]
     },
     "execution_count": 34,
     "metadata": {},
     "output_type": "execute_result"
    }
   ],
   "source": [
    "date.date()\n"
   ]
  },
  {
   "cell_type": "code",
   "execution_count": 35,
   "id": "1db66f61",
   "metadata": {},
   "outputs": [
    {
     "data": {
      "text/plain": [
       "21"
      ]
     },
     "execution_count": 35,
     "metadata": {},
     "output_type": "execute_result"
    }
   ],
   "source": [
    "date.day\n"
   ]
  },
  {
   "cell_type": "code",
   "execution_count": 36,
   "id": "32b02936",
   "metadata": {},
   "outputs": [
    {
     "data": {
      "text/plain": [
       "6"
      ]
     },
     "execution_count": 36,
     "metadata": {},
     "output_type": "execute_result"
    }
   ],
   "source": [
    "date.weekday() # day of week\n"
   ]
  },
  {
   "cell_type": "code",
   "execution_count": 37,
   "id": "8d67e137",
   "metadata": {},
   "outputs": [
    {
     "data": {
      "text/plain": [
       "2021"
      ]
     },
     "execution_count": 37,
     "metadata": {},
     "output_type": "execute_result"
    }
   ],
   "source": [
    "date.year\n"
   ]
  },
  {
   "cell_type": "code",
   "execution_count": 38,
   "id": "4a1b2ff9",
   "metadata": {},
   "outputs": [
    {
     "data": {
      "text/plain": [
       "11"
      ]
     },
     "execution_count": 38,
     "metadata": {},
     "output_type": "execute_result"
    }
   ],
   "source": [
    "date.month\n"
   ]
  },
  {
   "cell_type": "code",
   "execution_count": 39,
   "id": "b86886de",
   "metadata": {},
   "outputs": [
    {
     "data": {
      "text/html": [
       "<div>\n",
       "<style scoped>\n",
       "    .dataframe tbody tr th:only-of-type {\n",
       "        vertical-align: middle;\n",
       "    }\n",
       "\n",
       "    .dataframe tbody tr th {\n",
       "        vertical-align: top;\n",
       "    }\n",
       "\n",
       "    .dataframe thead th {\n",
       "        text-align: right;\n",
       "    }\n",
       "</style>\n",
       "<table border=\"1\" class=\"dataframe\">\n",
       "  <thead>\n",
       "    <tr style=\"text-align: right;\">\n",
       "      <th></th>\n",
       "      <th>High</th>\n",
       "      <th>Low</th>\n",
       "      <th>Open</th>\n",
       "      <th>Close</th>\n",
       "      <th>Volume</th>\n",
       "      <th>Adj Close</th>\n",
       "    </tr>\n",
       "    <tr>\n",
       "      <th>Date</th>\n",
       "      <th></th>\n",
       "      <th></th>\n",
       "      <th></th>\n",
       "      <th></th>\n",
       "      <th></th>\n",
       "      <th></th>\n",
       "    </tr>\n",
       "  </thead>\n",
       "  <tbody>\n",
       "    <tr>\n",
       "      <th>2017-06-20</th>\n",
       "      <td>70.870003</td>\n",
       "      <td>69.870003</td>\n",
       "      <td>70.820000</td>\n",
       "      <td>69.910004</td>\n",
       "      <td>21512200.0</td>\n",
       "      <td>65.481468</td>\n",
       "    </tr>\n",
       "    <tr>\n",
       "      <th>2017-06-21</th>\n",
       "      <td>70.620003</td>\n",
       "      <td>69.940002</td>\n",
       "      <td>70.209999</td>\n",
       "      <td>70.269997</td>\n",
       "      <td>19891100.0</td>\n",
       "      <td>65.818687</td>\n",
       "    </tr>\n",
       "    <tr>\n",
       "      <th>2017-06-22</th>\n",
       "      <td>70.589996</td>\n",
       "      <td>69.709999</td>\n",
       "      <td>70.540001</td>\n",
       "      <td>70.260002</td>\n",
       "      <td>22965700.0</td>\n",
       "      <td>65.809311</td>\n",
       "    </tr>\n",
       "    <tr>\n",
       "      <th>2017-06-23</th>\n",
       "      <td>71.250000</td>\n",
       "      <td>69.919998</td>\n",
       "      <td>70.089996</td>\n",
       "      <td>71.209999</td>\n",
       "      <td>27617300.0</td>\n",
       "      <td>66.699120</td>\n",
       "    </tr>\n",
       "    <tr>\n",
       "      <th>2017-06-26</th>\n",
       "      <td>71.709999</td>\n",
       "      <td>70.440002</td>\n",
       "      <td>71.400002</td>\n",
       "      <td>70.529999</td>\n",
       "      <td>19607000.0</td>\n",
       "      <td>66.062195</td>\n",
       "    </tr>\n",
       "  </tbody>\n",
       "</table>\n",
       "</div>"
      ],
      "text/plain": [
       "                 High        Low       Open      Close      Volume  Adj Close\n",
       "Date                                                                         \n",
       "2017-06-20  70.870003  69.870003  70.820000  69.910004  21512200.0  65.481468\n",
       "2017-06-21  70.620003  69.940002  70.209999  70.269997  19891100.0  65.818687\n",
       "2017-06-22  70.589996  69.709999  70.540001  70.260002  22965700.0  65.809311\n",
       "2017-06-23  71.250000  69.919998  70.089996  71.209999  27617300.0  66.699120\n",
       "2017-06-26  71.709999  70.440002  71.400002  70.529999  19607000.0  66.062195"
      ]
     },
     "execution_count": 39,
     "metadata": {},
     "output_type": "execute_result"
    }
   ],
   "source": [
    "df_microsoft.head()"
   ]
  },
  {
   "cell_type": "code",
   "execution_count": 40,
   "id": "6a212b96",
   "metadata": {},
   "outputs": [
    {
     "data": {
      "text/html": [
       "<div>\n",
       "<style scoped>\n",
       "    .dataframe tbody tr th:only-of-type {\n",
       "        vertical-align: middle;\n",
       "    }\n",
       "\n",
       "    .dataframe tbody tr th {\n",
       "        vertical-align: top;\n",
       "    }\n",
       "\n",
       "    .dataframe thead th {\n",
       "        text-align: right;\n",
       "    }\n",
       "</style>\n",
       "<table border=\"1\" class=\"dataframe\">\n",
       "  <thead>\n",
       "    <tr style=\"text-align: right;\">\n",
       "      <th></th>\n",
       "      <th>High</th>\n",
       "      <th>Low</th>\n",
       "      <th>Open</th>\n",
       "      <th>Close</th>\n",
       "      <th>Volume</th>\n",
       "      <th>Adj Close</th>\n",
       "    </tr>\n",
       "    <tr>\n",
       "      <th>Date</th>\n",
       "      <th></th>\n",
       "      <th></th>\n",
       "      <th></th>\n",
       "      <th></th>\n",
       "      <th></th>\n",
       "      <th></th>\n",
       "    </tr>\n",
       "  </thead>\n",
       "  <tbody>\n",
       "    <tr>\n",
       "      <th>2017-12-31</th>\n",
       "      <td>68.779999</td>\n",
       "      <td>68.019997</td>\n",
       "      <td>68.260002</td>\n",
       "      <td>68.169998</td>\n",
       "      <td>7425600.0</td>\n",
       "      <td>63.851688</td>\n",
       "    </tr>\n",
       "    <tr>\n",
       "      <th>2018-12-31</th>\n",
       "      <td>86.309998</td>\n",
       "      <td>83.830002</td>\n",
       "      <td>86.059998</td>\n",
       "      <td>85.010002</td>\n",
       "      <td>13677200.0</td>\n",
       "      <td>80.451187</td>\n",
       "    </tr>\n",
       "    <tr>\n",
       "      <th>2019-12-31</th>\n",
       "      <td>100.190002</td>\n",
       "      <td>97.199997</td>\n",
       "      <td>99.550003</td>\n",
       "      <td>97.400002</td>\n",
       "      <td>8989200.0</td>\n",
       "      <td>93.772461</td>\n",
       "    </tr>\n",
       "    <tr>\n",
       "      <th>2020-12-31</th>\n",
       "      <td>140.570007</td>\n",
       "      <td>132.520004</td>\n",
       "      <td>137.009995</td>\n",
       "      <td>135.419998</td>\n",
       "      <td>10550600.0</td>\n",
       "      <td>132.665588</td>\n",
       "    </tr>\n",
       "    <tr>\n",
       "      <th>2021-12-31</th>\n",
       "      <td>214.509995</td>\n",
       "      <td>211.940002</td>\n",
       "      <td>212.169998</td>\n",
       "      <td>212.250000</td>\n",
       "      <td>13900200.0</td>\n",
       "      <td>209.563217</td>\n",
       "    </tr>\n",
       "    <tr>\n",
       "      <th>2022-12-31</th>\n",
       "      <td>245.740005</td>\n",
       "      <td>241.509995</td>\n",
       "      <td>243.860001</td>\n",
       "      <td>242.259995</td>\n",
       "      <td>17372300.0</td>\n",
       "      <td>242.259995</td>\n",
       "    </tr>\n",
       "  </tbody>\n",
       "</table>\n",
       "</div>"
      ],
      "text/plain": [
       "                  High         Low        Open       Close      Volume  \\\n",
       "Date                                                                     \n",
       "2017-12-31   68.779999   68.019997   68.260002   68.169998   7425600.0   \n",
       "2018-12-31   86.309998   83.830002   86.059998   85.010002  13677200.0   \n",
       "2019-12-31  100.190002   97.199997   99.550003   97.400002   8989200.0   \n",
       "2020-12-31  140.570007  132.520004  137.009995  135.419998  10550600.0   \n",
       "2021-12-31  214.509995  211.940002  212.169998  212.250000  13900200.0   \n",
       "2022-12-31  245.740005  241.509995  243.860001  242.259995  17372300.0   \n",
       "\n",
       "             Adj Close  \n",
       "Date                    \n",
       "2017-12-31   63.851688  \n",
       "2018-12-31   80.451187  \n",
       "2019-12-31   93.772461  \n",
       "2020-12-31  132.665588  \n",
       "2021-12-31  209.563217  \n",
       "2022-12-31  242.259995  "
      ]
     },
     "execution_count": 40,
     "metadata": {},
     "output_type": "execute_result"
    }
   ],
   "source": [
    "# Graphical representation of Resampling\n",
    "\n",
    "\n",
    "df_microsoft.resample(rule='A').min() # annual"
   ]
  },
  {
   "cell_type": "code",
   "execution_count": 42,
   "id": "9ff93c63",
   "metadata": {},
   "outputs": [
    {
     "data": {
      "text/html": [
       "<div>\n",
       "<style scoped>\n",
       "    .dataframe tbody tr th:only-of-type {\n",
       "        vertical-align: middle;\n",
       "    }\n",
       "\n",
       "    .dataframe tbody tr th {\n",
       "        vertical-align: top;\n",
       "    }\n",
       "\n",
       "    .dataframe thead th {\n",
       "        text-align: right;\n",
       "    }\n",
       "</style>\n",
       "<table border=\"1\" class=\"dataframe\">\n",
       "  <thead>\n",
       "    <tr style=\"text-align: right;\">\n",
       "      <th></th>\n",
       "      <th>High</th>\n",
       "      <th>Low</th>\n",
       "      <th>Open</th>\n",
       "      <th>Close</th>\n",
       "      <th>Volume</th>\n",
       "      <th>Adj Close</th>\n",
       "    </tr>\n",
       "    <tr>\n",
       "      <th>Date</th>\n",
       "      <th></th>\n",
       "      <th></th>\n",
       "      <th></th>\n",
       "      <th></th>\n",
       "      <th></th>\n",
       "      <th></th>\n",
       "    </tr>\n",
       "  </thead>\n",
       "  <tbody>\n",
       "    <tr>\n",
       "      <th>2017-12-31</th>\n",
       "      <td>87.500000</td>\n",
       "      <td>86.230003</td>\n",
       "      <td>87.120003</td>\n",
       "      <td>86.849998</td>\n",
       "      <td>71066700.0</td>\n",
       "      <td>82.192520</td>\n",
       "    </tr>\n",
       "    <tr>\n",
       "      <th>2018-12-31</th>\n",
       "      <td>116.180000</td>\n",
       "      <td>114.930000</td>\n",
       "      <td>115.419998</td>\n",
       "      <td>115.610001</td>\n",
       "      <td>111242100.0</td>\n",
       "      <td>110.825478</td>\n",
       "    </tr>\n",
       "    <tr>\n",
       "      <th>2019-12-31</th>\n",
       "      <td>159.550003</td>\n",
       "      <td>158.220001</td>\n",
       "      <td>159.449997</td>\n",
       "      <td>158.960007</td>\n",
       "      <td>55636400.0</td>\n",
       "      <td>155.302597</td>\n",
       "    </tr>\n",
       "    <tr>\n",
       "      <th>2020-12-31</th>\n",
       "      <td>232.860001</td>\n",
       "      <td>227.350006</td>\n",
       "      <td>229.270004</td>\n",
       "      <td>231.649994</td>\n",
       "      <td>97012700.0</td>\n",
       "      <td>228.120392</td>\n",
       "    </tr>\n",
       "    <tr>\n",
       "      <th>2021-12-31</th>\n",
       "      <td>349.670013</td>\n",
       "      <td>342.200012</td>\n",
       "      <td>344.619995</td>\n",
       "      <td>343.109985</td>\n",
       "      <td>69870600.0</td>\n",
       "      <td>341.606354</td>\n",
       "    </tr>\n",
       "    <tr>\n",
       "      <th>2022-12-31</th>\n",
       "      <td>338.000000</td>\n",
       "      <td>329.779999</td>\n",
       "      <td>335.350006</td>\n",
       "      <td>334.750000</td>\n",
       "      <td>90428900.0</td>\n",
       "      <td>333.282990</td>\n",
       "    </tr>\n",
       "  </tbody>\n",
       "</table>\n",
       "</div>"
      ],
      "text/plain": [
       "                  High         Low        Open       Close       Volume  \\\n",
       "Date                                                                      \n",
       "2017-12-31   87.500000   86.230003   87.120003   86.849998   71066700.0   \n",
       "2018-12-31  116.180000  114.930000  115.419998  115.610001  111242100.0   \n",
       "2019-12-31  159.550003  158.220001  159.449997  158.960007   55636400.0   \n",
       "2020-12-31  232.860001  227.350006  229.270004  231.649994   97012700.0   \n",
       "2021-12-31  349.670013  342.200012  344.619995  343.109985   69870600.0   \n",
       "2022-12-31  338.000000  329.779999  335.350006  334.750000   90428900.0   \n",
       "\n",
       "             Adj Close  \n",
       "Date                    \n",
       "2017-12-31   82.192520  \n",
       "2018-12-31  110.825478  \n",
       "2019-12-31  155.302597  \n",
       "2020-12-31  228.120392  \n",
       "2021-12-31  341.606354  \n",
       "2022-12-31  333.282990  "
      ]
     },
     "execution_count": 42,
     "metadata": {},
     "output_type": "execute_result"
    }
   ],
   "source": [
    "df_microsoft.resample(rule='A').max() \n"
   ]
  },
  {
   "cell_type": "code",
   "execution_count": 43,
   "id": "5563da9f",
   "metadata": {
    "scrolled": true
   },
   "outputs": [
    {
     "data": {
      "text/plain": [
       "<AxesSubplot:xlabel='Date'>"
      ]
     },
     "execution_count": 43,
     "metadata": {},
     "output_type": "execute_result"
    },
    {
     "data": {
      "image/png": "[encoded data removed]",
      "text/plain": [
       "<Figure size 432x288 with 1 Axes>"
      ]
     },
     "metadata": {
      "needs_background": "light"
     },
     "output_type": "display_data"
    }
   ],
   "source": [
    "##year end frequency\n",
    "\n",
    "df_microsoft.resample(rule='A').max()['Open'].plot()"
   ]
  },
  {
   "cell_type": "code",
   "execution_count": 44,
   "id": "f2c32eb9",
   "metadata": {},
   "outputs": [
    {
     "data": {
      "text/plain": [
       "<AxesSubplot:xlabel='Date'>"
      ]
     },
     "execution_count": 44,
     "metadata": {},
     "output_type": "execute_result"
    },
    {
     "data": {
      "image/png": "[encoded data removed]",
      "text/plain": [
       "<Figure size 432x288 with 1 Axes>"
      ]
     },
     "metadata": {
      "needs_background": "light"
     },
     "output_type": "display_data"
    }
   ],
   "source": [
    "##quaterly start frequency\n",
    "##https://towardsdatascience.com/resample-function-of-pandas-79b17ec82a78\n",
    "df_microsoft.resample(rule='QS').max()['High'].plot()\n"
   ]
  },
  {
   "cell_type": "code",
   "execution_count": 45,
   "id": "0267d5a0",
   "metadata": {},
   "outputs": [
    {
     "data": {
      "text/html": [
       "<div>\n",
       "<style scoped>\n",
       "    .dataframe tbody tr th:only-of-type {\n",
       "        vertical-align: middle;\n",
       "    }\n",
       "\n",
       "    .dataframe tbody tr th {\n",
       "        vertical-align: top;\n",
       "    }\n",
       "\n",
       "    .dataframe thead th {\n",
       "        text-align: right;\n",
       "    }\n",
       "</style>\n",
       "<table border=\"1\" class=\"dataframe\">\n",
       "  <thead>\n",
       "    <tr style=\"text-align: right;\">\n",
       "      <th></th>\n",
       "      <th>High</th>\n",
       "      <th>Low</th>\n",
       "      <th>Open</th>\n",
       "      <th>Close</th>\n",
       "      <th>Volume</th>\n",
       "      <th>Adj Close</th>\n",
       "    </tr>\n",
       "    <tr>\n",
       "      <th>Date</th>\n",
       "      <th></th>\n",
       "      <th></th>\n",
       "      <th></th>\n",
       "      <th></th>\n",
       "      <th></th>\n",
       "      <th></th>\n",
       "    </tr>\n",
       "  </thead>\n",
       "  <tbody>\n",
       "    <tr>\n",
       "      <th>2017-12-29</th>\n",
       "      <td>87.500000</td>\n",
       "      <td>86.230003</td>\n",
       "      <td>87.120003</td>\n",
       "      <td>86.849998</td>\n",
       "      <td>71066700.0</td>\n",
       "      <td>82.192520</td>\n",
       "    </tr>\n",
       "    <tr>\n",
       "      <th>2018-12-31</th>\n",
       "      <td>116.180000</td>\n",
       "      <td>114.930000</td>\n",
       "      <td>115.419998</td>\n",
       "      <td>115.610001</td>\n",
       "      <td>111242100.0</td>\n",
       "      <td>110.825478</td>\n",
       "    </tr>\n",
       "    <tr>\n",
       "      <th>2019-12-31</th>\n",
       "      <td>159.550003</td>\n",
       "      <td>158.220001</td>\n",
       "      <td>159.449997</td>\n",
       "      <td>158.960007</td>\n",
       "      <td>55636400.0</td>\n",
       "      <td>155.302597</td>\n",
       "    </tr>\n",
       "    <tr>\n",
       "      <th>2020-12-31</th>\n",
       "      <td>232.860001</td>\n",
       "      <td>227.350006</td>\n",
       "      <td>229.270004</td>\n",
       "      <td>231.649994</td>\n",
       "      <td>97012700.0</td>\n",
       "      <td>228.120392</td>\n",
       "    </tr>\n",
       "    <tr>\n",
       "      <th>2021-12-31</th>\n",
       "      <td>349.670013</td>\n",
       "      <td>342.200012</td>\n",
       "      <td>344.619995</td>\n",
       "      <td>343.109985</td>\n",
       "      <td>69870600.0</td>\n",
       "      <td>341.606354</td>\n",
       "    </tr>\n",
       "    <tr>\n",
       "      <th>2022-12-30</th>\n",
       "      <td>338.000000</td>\n",
       "      <td>329.779999</td>\n",
       "      <td>335.350006</td>\n",
       "      <td>334.750000</td>\n",
       "      <td>90428900.0</td>\n",
       "      <td>333.282990</td>\n",
       "    </tr>\n",
       "  </tbody>\n",
       "</table>\n",
       "</div>"
      ],
      "text/plain": [
       "                  High         Low        Open       Close       Volume  \\\n",
       "Date                                                                      \n",
       "2017-12-29   87.500000   86.230003   87.120003   86.849998   71066700.0   \n",
       "2018-12-31  116.180000  114.930000  115.419998  115.610001  111242100.0   \n",
       "2019-12-31  159.550003  158.220001  159.449997  158.960007   55636400.0   \n",
       "2020-12-31  232.860001  227.350006  229.270004  231.649994   97012700.0   \n",
       "2021-12-31  349.670013  342.200012  344.619995  343.109985   69870600.0   \n",
       "2022-12-30  338.000000  329.779999  335.350006  334.750000   90428900.0   \n",
       "\n",
       "             Adj Close  \n",
       "Date                    \n",
       "2017-12-29   82.192520  \n",
       "2018-12-31  110.825478  \n",
       "2019-12-31  155.302597  \n",
       "2020-12-31  228.120392  \n",
       "2021-12-31  341.606354  \n",
       "2022-12-30  333.282990  "
      ]
     },
     "execution_count": 45,
     "metadata": {},
     "output_type": "execute_result"
    }
   ],
   "source": [
    "##Business End Frequency\n",
    "##https://towardsdatascience.com/resample-function-of-pandas-79b17ec82a78\n",
    "\n",
    "df_microsoft.resample(rule='BA').max()\n"
   ]
  },
  {
   "cell_type": "code",
   "execution_count": 46,
   "id": "918646bc",
   "metadata": {},
   "outputs": [
    {
     "data": {
      "text/html": [
       "<div>\n",
       "<style scoped>\n",
       "    .dataframe tbody tr th:only-of-type {\n",
       "        vertical-align: middle;\n",
       "    }\n",
       "\n",
       "    .dataframe tbody tr th {\n",
       "        vertical-align: top;\n",
       "    }\n",
       "\n",
       "    .dataframe thead th {\n",
       "        text-align: right;\n",
       "    }\n",
       "</style>\n",
       "<table border=\"1\" class=\"dataframe\">\n",
       "  <thead>\n",
       "    <tr style=\"text-align: right;\">\n",
       "      <th></th>\n",
       "      <th>High</th>\n",
       "      <th>Low</th>\n",
       "      <th>Open</th>\n",
       "      <th>Close</th>\n",
       "      <th>Volume</th>\n",
       "      <th>Adj Close</th>\n",
       "    </tr>\n",
       "    <tr>\n",
       "      <th>Date</th>\n",
       "      <th></th>\n",
       "      <th></th>\n",
       "      <th></th>\n",
       "      <th></th>\n",
       "      <th></th>\n",
       "      <th></th>\n",
       "    </tr>\n",
       "  </thead>\n",
       "  <tbody>\n",
       "    <tr>\n",
       "      <th>2017-04-03</th>\n",
       "      <td>71.709999</td>\n",
       "      <td>70.440002</td>\n",
       "      <td>71.400002</td>\n",
       "      <td>71.209999</td>\n",
       "      <td>28918700.0</td>\n",
       "      <td>66.699120</td>\n",
       "    </tr>\n",
       "    <tr>\n",
       "      <th>2017-07-03</th>\n",
       "      <td>75.970001</td>\n",
       "      <td>75.040001</td>\n",
       "      <td>75.349998</td>\n",
       "      <td>75.440002</td>\n",
       "      <td>46717100.0</td>\n",
       "      <td>71.037651</td>\n",
       "    </tr>\n",
       "    <tr>\n",
       "      <th>2017-10-02</th>\n",
       "      <td>87.500000</td>\n",
       "      <td>86.230003</td>\n",
       "      <td>87.120003</td>\n",
       "      <td>86.849998</td>\n",
       "      <td>71066700.0</td>\n",
       "      <td>82.192520</td>\n",
       "    </tr>\n",
       "    <tr>\n",
       "      <th>2018-01-01</th>\n",
       "      <td>97.239998</td>\n",
       "      <td>96.040001</td>\n",
       "      <td>97.000000</td>\n",
       "      <td>96.769997</td>\n",
       "      <td>67998600.0</td>\n",
       "      <td>92.010727</td>\n",
       "    </tr>\n",
       "    <tr>\n",
       "      <th>2018-04-02</th>\n",
       "      <td>102.690002</td>\n",
       "      <td>101.900002</td>\n",
       "      <td>102.650002</td>\n",
       "      <td>102.489998</td>\n",
       "      <td>65738600.0</td>\n",
       "      <td>97.871811</td>\n",
       "    </tr>\n",
       "    <tr>\n",
       "      <th>2018-07-02</th>\n",
       "      <td>115.290001</td>\n",
       "      <td>114.199997</td>\n",
       "      <td>114.800003</td>\n",
       "      <td>114.669998</td>\n",
       "      <td>71229700.0</td>\n",
       "      <td>109.924377</td>\n",
       "    </tr>\n",
       "    <tr>\n",
       "      <th>2018-10-01</th>\n",
       "      <td>116.180000</td>\n",
       "      <td>114.930000</td>\n",
       "      <td>115.419998</td>\n",
       "      <td>115.610001</td>\n",
       "      <td>111242100.0</td>\n",
       "      <td>110.825478</td>\n",
       "    </tr>\n",
       "    <tr>\n",
       "      <th>2019-01-01</th>\n",
       "      <td>120.820000</td>\n",
       "      <td>117.089996</td>\n",
       "      <td>119.500000</td>\n",
       "      <td>120.220001</td>\n",
       "      <td>55636400.0</td>\n",
       "      <td>116.236862</td>\n",
       "    </tr>\n",
       "    <tr>\n",
       "      <th>2019-04-01</th>\n",
       "      <td>138.399994</td>\n",
       "      <td>137.000000</td>\n",
       "      <td>137.449997</td>\n",
       "      <td>137.779999</td>\n",
       "      <td>38033900.0</td>\n",
       "      <td>133.708176</td>\n",
       "    </tr>\n",
       "    <tr>\n",
       "      <th>2019-07-01</th>\n",
       "      <td>142.369995</td>\n",
       "      <td>140.300003</td>\n",
       "      <td>141.500000</td>\n",
       "      <td>141.339996</td>\n",
       "      <td>48992400.0</td>\n",
       "      <td>137.356827</td>\n",
       "    </tr>\n",
       "    <tr>\n",
       "      <th>2019-10-01</th>\n",
       "      <td>159.550003</td>\n",
       "      <td>158.220001</td>\n",
       "      <td>159.449997</td>\n",
       "      <td>158.960007</td>\n",
       "      <td>53477500.0</td>\n",
       "      <td>155.302597</td>\n",
       "    </tr>\n",
       "    <tr>\n",
       "      <th>2020-01-01</th>\n",
       "      <td>190.699997</td>\n",
       "      <td>186.470001</td>\n",
       "      <td>190.649994</td>\n",
       "      <td>188.699997</td>\n",
       "      <td>97012700.0</td>\n",
       "      <td>184.358322</td>\n",
       "    </tr>\n",
       "    <tr>\n",
       "      <th>2020-04-01</th>\n",
       "      <td>204.399994</td>\n",
       "      <td>201.429993</td>\n",
       "      <td>202.089996</td>\n",
       "      <td>203.509995</td>\n",
       "      <td>67111700.0</td>\n",
       "      <td>199.925903</td>\n",
       "    </tr>\n",
       "    <tr>\n",
       "      <th>2020-07-01</th>\n",
       "      <td>232.860001</td>\n",
       "      <td>227.350006</td>\n",
       "      <td>229.270004</td>\n",
       "      <td>231.649994</td>\n",
       "      <td>78983000.0</td>\n",
       "      <td>228.120392</td>\n",
       "    </tr>\n",
       "    <tr>\n",
       "      <th>2020-10-01</th>\n",
       "      <td>228.119995</td>\n",
       "      <td>223.580002</td>\n",
       "      <td>226.309998</td>\n",
       "      <td>224.960007</td>\n",
       "      <td>63354900.0</td>\n",
       "      <td>222.112350</td>\n",
       "    </tr>\n",
       "    <tr>\n",
       "      <th>2021-01-01</th>\n",
       "      <td>246.130005</td>\n",
       "      <td>242.919998</td>\n",
       "      <td>245.029999</td>\n",
       "      <td>244.990005</td>\n",
       "      <td>69870600.0</td>\n",
       "      <td>241.888794</td>\n",
       "    </tr>\n",
       "    <tr>\n",
       "      <th>2021-04-01</th>\n",
       "      <td>271.649994</td>\n",
       "      <td>269.600006</td>\n",
       "      <td>270.690002</td>\n",
       "      <td>271.399994</td>\n",
       "      <td>46903100.0</td>\n",
       "      <td>269.201813</td>\n",
       "    </tr>\n",
       "    <tr>\n",
       "      <th>2021-07-01</th>\n",
       "      <td>305.839996</td>\n",
       "      <td>302.000000</td>\n",
       "      <td>305.019989</td>\n",
       "      <td>305.220001</td>\n",
       "      <td>43186200.0</td>\n",
       "      <td>303.327484</td>\n",
       "    </tr>\n",
       "    <tr>\n",
       "      <th>2021-10-01</th>\n",
       "      <td>349.670013</td>\n",
       "      <td>342.200012</td>\n",
       "      <td>344.619995</td>\n",
       "      <td>343.109985</td>\n",
       "      <td>52588700.0</td>\n",
       "      <td>341.606354</td>\n",
       "    </tr>\n",
       "    <tr>\n",
       "      <th>2022-01-03</th>\n",
       "      <td>338.000000</td>\n",
       "      <td>329.779999</td>\n",
       "      <td>335.350006</td>\n",
       "      <td>334.750000</td>\n",
       "      <td>90428900.0</td>\n",
       "      <td>333.282990</td>\n",
       "    </tr>\n",
       "    <tr>\n",
       "      <th>2022-04-01</th>\n",
       "      <td>315.109985</td>\n",
       "      <td>309.869995</td>\n",
       "      <td>313.269989</td>\n",
       "      <td>314.970001</td>\n",
       "      <td>63477700.0</td>\n",
       "      <td>314.238098</td>\n",
       "    </tr>\n",
       "  </tbody>\n",
       "</table>\n",
       "</div>"
      ],
      "text/plain": [
       "                  High         Low        Open       Close       Volume  \\\n",
       "Date                                                                      \n",
       "2017-04-03   71.709999   70.440002   71.400002   71.209999   28918700.0   \n",
       "2017-07-03   75.970001   75.040001   75.349998   75.440002   46717100.0   \n",
       "2017-10-02   87.500000   86.230003   87.120003   86.849998   71066700.0   \n",
       "2018-01-01   97.239998   96.040001   97.000000   96.769997   67998600.0   \n",
       "2018-04-02  102.690002  101.900002  102.650002  102.489998   65738600.0   \n",
       "2018-07-02  115.290001  114.199997  114.800003  114.669998   71229700.0   \n",
       "2018-10-01  116.180000  114.930000  115.419998  115.610001  111242100.0   \n",
       "2019-01-01  120.820000  117.089996  119.500000  120.220001   55636400.0   \n",
       "2019-04-01  138.399994  137.000000  137.449997  137.779999   38033900.0   \n",
       "2019-07-01  142.369995  140.300003  141.500000  141.339996   48992400.0   \n",
       "2019-10-01  159.550003  158.220001  159.449997  158.960007   53477500.0   \n",
       "2020-01-01  190.699997  186.470001  190.649994  188.699997   97012700.0   \n",
       "2020-04-01  204.399994  201.429993  202.089996  203.509995   67111700.0   \n",
       "2020-07-01  232.860001  227.350006  229.270004  231.649994   78983000.0   \n",
       "2020-10-01  228.119995  223.580002  226.309998  224.960007   63354900.0   \n",
       "2021-01-01  246.130005  242.919998  245.029999  244.990005   69870600.0   \n",
       "2021-04-01  271.649994  269.600006  270.690002  271.399994   46903100.0   \n",
       "2021-07-01  305.839996  302.000000  305.019989  305.220001   43186200.0   \n",
       "2021-10-01  349.670013  342.200012  344.619995  343.109985   52588700.0   \n",
       "2022-01-03  338.000000  329.779999  335.350006  334.750000   90428900.0   \n",
       "2022-04-01  315.109985  309.869995  313.269989  314.970001   63477700.0   \n",
       "\n",
       "             Adj Close  \n",
       "Date                    \n",
       "2017-04-03   66.699120  \n",
       "2017-07-03   71.037651  \n",
       "2017-10-02   82.192520  \n",
       "2018-01-01   92.010727  \n",
       "2018-04-02   97.871811  \n",
       "2018-07-02  109.924377  \n",
       "2018-10-01  110.825478  \n",
       "2019-01-01  116.236862  \n",
       "2019-04-01  133.708176  \n",
       "2019-07-01  137.356827  \n",
       "2019-10-01  155.302597  \n",
       "2020-01-01  184.358322  \n",
       "2020-04-01  199.925903  \n",
       "2020-07-01  228.120392  \n",
       "2020-10-01  222.112350  \n",
       "2021-01-01  241.888794  \n",
       "2021-04-01  269.201813  \n",
       "2021-07-01  303.327484  \n",
       "2021-10-01  341.606354  \n",
       "2022-01-03  333.282990  \n",
       "2022-04-01  314.238098  "
      ]
     },
     "execution_count": 46,
     "metadata": {},
     "output_type": "execute_result"
    }
   ],
   "source": [
    "df_microsoft.resample(rule='BQS').max()\n"
   ]
  },
  {
   "cell_type": "code",
   "execution_count": 47,
   "id": "1f7cf76a",
   "metadata": {},
   "outputs": [
    {
     "data": {
      "text/plain": [
       "<AxesSubplot:xlabel='Date'>"
      ]
     },
     "execution_count": 47,
     "metadata": {},
     "output_type": "execute_result"
    },
    {
     "data": {
      "image/png": "[encoded data removed]",
      "text/plain": [
       "<Figure size 432x288 with 1 Axes>"
      ]
     },
     "metadata": {
      "needs_background": "light"
     },
     "output_type": "display_data"
    }
   ],
   "source": [
    "##plotting \n",
    "df_microsoft['Open'].resample(rule='A').mean().plot(kind='bar')\n"
   ]
  },
  {
   "cell_type": "code",
   "execution_count": 48,
   "id": "18958709",
   "metadata": {},
   "outputs": [
    {
     "data": {
      "text/plain": [
       "<AxesSubplot:xlabel='Date'>"
      ]
     },
     "execution_count": 48,
     "metadata": {},
     "output_type": "execute_result"
    },
    {
     "data": {
      "image/png": "[encoded data removed]",
      "text/plain": [
       "<Figure size 1080x432 with 1 Axes>"
      ]
     },
     "metadata": {
      "needs_background": "light"
     },
     "output_type": "display_data"
    }
   ],
   "source": [
    "df_microsoft['Open'].resample(rule='M').max().plot(kind='bar',figsize=(15,6))\n"
   ]
  },
  {
   "cell_type": "code",
   "execution_count": 49,
   "id": "40b5c73e",
   "metadata": {},
   "outputs": [
    {
     "data": {
      "text/plain": [
       "Date\n",
       "2017-06-20          NaN\n",
       "2017-06-21          NaN\n",
       "2017-06-22          NaN\n",
       "2017-06-23          NaN\n",
       "2017-06-26          NaN\n",
       "2017-06-27          NaN\n",
       "2017-06-28          NaN\n",
       "2017-06-29          NaN\n",
       "2017-06-30          NaN\n",
       "2017-07-03          NaN\n",
       "2017-07-05    71.709999\n",
       "2017-07-06    71.709999\n",
       "2017-07-07    71.709999\n",
       "2017-07-10    71.709999\n",
       "2017-07-11    71.709999\n",
       "2017-07-12    71.279999\n",
       "2017-07-13    72.040001\n",
       "2017-07-14    73.269997\n",
       "2017-07-17    73.449997\n",
       "2017-07-18    73.449997\n",
       "Name: High, dtype: float64"
      ]
     },
     "execution_count": 49,
     "metadata": {},
     "output_type": "execute_result"
    }
   ],
   "source": [
    "df_microsoft['High'].rolling(11).max().head(20)\n"
   ]
  },
  {
   "cell_type": "code",
   "execution_count": 50,
   "id": "b547e03f",
   "metadata": {},
   "outputs": [
    {
     "data": {
      "text/html": [
       "<div>\n",
       "<style scoped>\n",
       "    .dataframe tbody tr th:only-of-type {\n",
       "        vertical-align: middle;\n",
       "    }\n",
       "\n",
       "    .dataframe tbody tr th {\n",
       "        vertical-align: top;\n",
       "    }\n",
       "\n",
       "    .dataframe thead th {\n",
       "        text-align: right;\n",
       "    }\n",
       "</style>\n",
       "<table border=\"1\" class=\"dataframe\">\n",
       "  <thead>\n",
       "    <tr style=\"text-align: right;\">\n",
       "      <th></th>\n",
       "      <th>High</th>\n",
       "      <th>Low</th>\n",
       "      <th>Open</th>\n",
       "      <th>Close</th>\n",
       "      <th>Volume</th>\n",
       "      <th>Adj Close</th>\n",
       "    </tr>\n",
       "    <tr>\n",
       "      <th>Date</th>\n",
       "      <th></th>\n",
       "      <th></th>\n",
       "      <th></th>\n",
       "      <th></th>\n",
       "      <th></th>\n",
       "      <th></th>\n",
       "    </tr>\n",
       "  </thead>\n",
       "  <tbody>\n",
       "    <tr>\n",
       "      <th>2017-06-20</th>\n",
       "      <td>70.870003</td>\n",
       "      <td>69.870003</td>\n",
       "      <td>70.820000</td>\n",
       "      <td>69.910004</td>\n",
       "      <td>21512200.0</td>\n",
       "      <td>65.481468</td>\n",
       "    </tr>\n",
       "    <tr>\n",
       "      <th>2017-06-21</th>\n",
       "      <td>70.620003</td>\n",
       "      <td>69.940002</td>\n",
       "      <td>70.209999</td>\n",
       "      <td>70.269997</td>\n",
       "      <td>19891100.0</td>\n",
       "      <td>65.818687</td>\n",
       "    </tr>\n",
       "    <tr>\n",
       "      <th>2017-06-22</th>\n",
       "      <td>70.589996</td>\n",
       "      <td>69.709999</td>\n",
       "      <td>70.540001</td>\n",
       "      <td>70.260002</td>\n",
       "      <td>22965700.0</td>\n",
       "      <td>65.809311</td>\n",
       "    </tr>\n",
       "    <tr>\n",
       "      <th>2017-06-23</th>\n",
       "      <td>71.250000</td>\n",
       "      <td>69.919998</td>\n",
       "      <td>70.089996</td>\n",
       "      <td>71.209999</td>\n",
       "      <td>27617300.0</td>\n",
       "      <td>66.699120</td>\n",
       "    </tr>\n",
       "    <tr>\n",
       "      <th>2017-06-26</th>\n",
       "      <td>71.709999</td>\n",
       "      <td>70.440002</td>\n",
       "      <td>71.400002</td>\n",
       "      <td>70.529999</td>\n",
       "      <td>19607000.0</td>\n",
       "      <td>66.062195</td>\n",
       "    </tr>\n",
       "  </tbody>\n",
       "</table>\n",
       "</div>"
      ],
      "text/plain": [
       "                 High        Low       Open      Close      Volume  Adj Close\n",
       "Date                                                                         \n",
       "2017-06-20  70.870003  69.870003  70.820000  69.910004  21512200.0  65.481468\n",
       "2017-06-21  70.620003  69.940002  70.209999  70.269997  19891100.0  65.818687\n",
       "2017-06-22  70.589996  69.709999  70.540001  70.260002  22965700.0  65.809311\n",
       "2017-06-23  71.250000  69.919998  70.089996  71.209999  27617300.0  66.699120\n",
       "2017-06-26  71.709999  70.440002  71.400002  70.529999  19607000.0  66.062195"
      ]
     },
     "execution_count": 50,
     "metadata": {},
     "output_type": "execute_result"
    }
   ],
   "source": [
    "df_microsoft.head()\n"
   ]
  },
  {
   "cell_type": "code",
   "execution_count": 51,
   "id": "dc02772e",
   "metadata": {},
   "outputs": [],
   "source": [
    "df_microsoft['Open:30 days rolling']=df_microsoft['Open'].rolling(30).mean()\n"
   ]
  },
  {
   "cell_type": "code",
   "execution_count": 68,
   "id": "1642d2d8",
   "metadata": {},
   "outputs": [
    {
     "data": {
      "text/plain": [
       "<AxesSubplot:xlabel='Date'>"
      ]
     },
     "execution_count": 68,
     "metadata": {},
     "output_type": "execute_result"
    },
    {
     "data": {
      "image/png": "[encoded data removed]",
      "text/plain": [
       "<Figure size 864x360 with 1 Axes>"
      ]
     },
     "metadata": {
      "needs_background": "light"
     },
     "output_type": "display_data"
    }
   ],
   "source": [
    "df_microsoft[['Open','Open:30 days rolling']].plot(figsize=(12,5))\n"
   ]
  },
  {
   "cell_type": "code",
   "execution_count": 69,
   "id": "fffe5cd7",
   "metadata": {},
   "outputs": [],
   "source": [
    "df_microsoft['High:30 days rolling']=df_microsoft['High'].rolling(30).mean()\n"
   ]
  },
  {
   "cell_type": "code",
   "execution_count": 70,
   "id": "0617b39b",
   "metadata": {},
   "outputs": [
    {
     "data": {
      "text/plain": [
       "<AxesSubplot:xlabel='Date'>"
      ]
     },
     "execution_count": 70,
     "metadata": {},
     "output_type": "execute_result"
    },
    {
     "data": {
      "image/png": "[encoded data removed]",
      "text/plain": [
       "<Figure size 864x360 with 1 Axes>"
      ]
     },
     "metadata": {
      "needs_background": "light"
     },
     "output_type": "display_data"
    }
   ],
   "source": [
    "df_microsoft[['High','High:30 days rolling']].plot(figsize=(12,5))\n"
   ]
  },
  {
   "cell_type": "code",
   "execution_count": 63,
   "id": "a45bb3c6",
   "metadata": {},
   "outputs": [
    {
     "data": {
      "text/plain": [
       "Date\n",
       "2017-12-31     87.500000\n",
       "2018-12-31    116.180000\n",
       "2019-12-31    159.550003\n",
       "2020-12-31    232.860001\n",
       "2021-12-31    349.670013\n",
       "2022-12-31    338.000000\n",
       "Freq: A-DEC, Name: High, dtype: float64"
      ]
     },
     "execution_count": 63,
     "metadata": {},
     "output_type": "execute_result"
    }
   ],
   "source": [
    "# Maximum price of share from 2017-2022\n",
    "df_microsoft['High'].resample(rule='A').max()\n"
   ]
  },
  {
   "cell_type": "code",
   "execution_count": 67,
   "id": "89e62507",
   "metadata": {},
   "outputs": [
    {
     "data": {
      "text/plain": [
       "<AxesSubplot:xlabel='Date'>"
      ]
     },
     "execution_count": 67,
     "metadata": {},
     "output_type": "execute_result"
    },
    {
     "data": {
      "image/png": "[encoded data removed]",
      "text/plain": [
       "<Figure size 1080x432 with 1 Axes>"
      ]
     },
     "metadata": {
      "needs_background": "light"
     },
     "output_type": "display_data"
    }
   ],
   "source": [
    "# Which is the date of the highest price of the stock?\n",
    "\n",
    "df_microsoft['High'].resample(rule='M').max().plot(kind='bar',figsize=(15,6))\n",
    "\n",
    "# 2021-11-30 is the date of the highest price of the stock?\n",
    "\n"
   ]
  },
  {
   "cell_type": "code",
   "execution_count": 65,
   "id": "b53e5562",
   "metadata": {},
   "outputs": [
    {
     "data": {
      "text/plain": [
       "Date\n",
       "2017-06-20          NaN\n",
       "2017-06-21          NaN\n",
       "2017-06-22          NaN\n",
       "2017-06-23          NaN\n",
       "2017-06-26          NaN\n",
       "2017-06-27          NaN\n",
       "2017-06-28          NaN\n",
       "2017-06-29          NaN\n",
       "2017-06-30          NaN\n",
       "2017-07-03          NaN\n",
       "2017-07-05    71.709999\n",
       "2017-07-06    71.709999\n",
       "2017-07-07    71.709999\n",
       "2017-07-10    71.709999\n",
       "2017-07-11    71.709999\n",
       "2017-07-12    71.279999\n",
       "2017-07-13    72.040001\n",
       "2017-07-14    73.269997\n",
       "2017-07-17    73.449997\n",
       "2017-07-18    73.449997\n",
       "Name: High, dtype: float64"
      ]
     },
     "execution_count": 65,
     "metadata": {},
     "output_type": "execute_result"
    }
   ],
   "source": [
    "# Which is the date of the lowest price of the stock?\n",
    "#2017-06-30 is the lowest price of stock"
   ]
  },
  {
   "cell_type": "code",
   "execution_count": null,
   "id": "47945ef7",
   "metadata": {},
   "outputs": [],
   "source": []
  },
  {
   "cell_type": "code",
   "execution_count": null,
   "id": "debce912",
   "metadata": {},
   "outputs": [],
   "source": []
  }
 ],
 "metadata": {
  "kernelspec": {
   "display_name": "Python 3 (ipykernel)",
   "language": "python",
   "name": "python3"
  },
  "language_info": {
   "codemirror_mode": {
    "name": "ipython",
    "version": 3
   },
   "file_extension": ".py",
   "mimetype": "text/x-python",
   "name": "python",
   "nbconvert_exporter": "python",
   "pygments_lexer": "ipython3",
   "version": "3.9.7"
  }
 },
 "nbformat": 4,
 "nbformat_minor": 5
}
